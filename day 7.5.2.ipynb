{
 "cells": [
  {
   "cell_type": "code",
   "execution_count": 1,
   "metadata": {},
   "outputs": [],
   "source": [
    "#dataframes"
   ]
  },
  {
   "cell_type": "code",
   "execution_count": null,
   "metadata": {},
   "outputs": [],
   "source": [
    "#Pkg.add(\"DataFrames\") # data in tabular form: rows and columns\n",
    "#Pkg.add(\"RDatasets\") # dataset repository. Has a lot of R's dataset packages. on github: github.com/JuliaStats/RDatasets.jl\n",
    "#Pkg.add(\"CSV\") # handles CSV files"
   ]
  },
  {
   "cell_type": "code",
   "execution_count": 2,
   "metadata": {},
   "outputs": [],
   "source": [
    "using DataFrames"
   ]
  },
  {
   "cell_type": "code",
   "execution_count": 3,
   "metadata": {},
   "outputs": [],
   "source": [
    "anscombe=DataFrame([10 10 10 8 8.04 9.14 7.46 6.58;\n",
    "8 8 8 8 6.95 8.14 6.77 5.76;\n",
    "13 13 13 8 7.58 8.74 12.74 7.71;\n",
    "9 9 9 8 8.81 8.77 7.11 8.84;\n",
    "11 11 11 8 8.33 9.26 7.81 8.47;\n",
    "14 14 14 8 9.96 8.1 8.84 7.04;\n",
    "6 6 6 8 7.24 6.13 6.08 5.25;\n",
    "4 4 4 19 4.26 3.1 5.39 12.5;\n",
    "12 12 12 8 10.84 9.13 8.15 5.56;\n",
    "7 7 7 8 4.82 7.26 6.42 7.91;\n",
    "5 5 5 8 5.68 4.74 5.73 6.89],:auto);"
   ]
  },
  {
   "cell_type": "code",
   "execution_count": 4,
   "metadata": {},
   "outputs": [
    {
     "data": {
      "text/html": [
       "<table class=\"data-frame\"><thead><tr><th></th><th>x1</th><th>x2</th><th>x3</th><th>x4</th><th>x5</th><th>x6</th><th>x7</th><th>x8</th></tr><tr><th></th><th>Float64</th><th>Float64</th><th>Float64</th><th>Float64</th><th>Float64</th><th>Float64</th><th>Float64</th><th>Float64</th></tr></thead><tbody><p>11 rows × 8 columns</p><tr><th>1</th><td>10.0</td><td>10.0</td><td>10.0</td><td>8.0</td><td>8.04</td><td>9.14</td><td>7.46</td><td>6.58</td></tr><tr><th>2</th><td>8.0</td><td>8.0</td><td>8.0</td><td>8.0</td><td>6.95</td><td>8.14</td><td>6.77</td><td>5.76</td></tr><tr><th>3</th><td>13.0</td><td>13.0</td><td>13.0</td><td>8.0</td><td>7.58</td><td>8.74</td><td>12.74</td><td>7.71</td></tr><tr><th>4</th><td>9.0</td><td>9.0</td><td>9.0</td><td>8.0</td><td>8.81</td><td>8.77</td><td>7.11</td><td>8.84</td></tr><tr><th>5</th><td>11.0</td><td>11.0</td><td>11.0</td><td>8.0</td><td>8.33</td><td>9.26</td><td>7.81</td><td>8.47</td></tr><tr><th>6</th><td>14.0</td><td>14.0</td><td>14.0</td><td>8.0</td><td>9.96</td><td>8.1</td><td>8.84</td><td>7.04</td></tr><tr><th>7</th><td>6.0</td><td>6.0</td><td>6.0</td><td>8.0</td><td>7.24</td><td>6.13</td><td>6.08</td><td>5.25</td></tr><tr><th>8</th><td>4.0</td><td>4.0</td><td>4.0</td><td>19.0</td><td>4.26</td><td>3.1</td><td>5.39</td><td>12.5</td></tr><tr><th>9</th><td>12.0</td><td>12.0</td><td>12.0</td><td>8.0</td><td>10.84</td><td>9.13</td><td>8.15</td><td>5.56</td></tr><tr><th>10</th><td>7.0</td><td>7.0</td><td>7.0</td><td>8.0</td><td>4.82</td><td>7.26</td><td>6.42</td><td>7.91</td></tr><tr><th>11</th><td>5.0</td><td>5.0</td><td>5.0</td><td>8.0</td><td>5.68</td><td>4.74</td><td>5.73</td><td>6.89</td></tr></tbody></table>"
      ],
      "text/latex": [
       "\\begin{tabular}{r|cccccccc}\n",
       "\t& x1 & x2 & x3 & x4 & x5 & x6 & x7 & x8\\\\\n",
       "\t\\hline\n",
       "\t& Float64 & Float64 & Float64 & Float64 & Float64 & Float64 & Float64 & Float64\\\\\n",
       "\t\\hline\n",
       "\t1 & 10.0 & 10.0 & 10.0 & 8.0 & 8.04 & 9.14 & 7.46 & 6.58 \\\\\n",
       "\t2 & 8.0 & 8.0 & 8.0 & 8.0 & 6.95 & 8.14 & 6.77 & 5.76 \\\\\n",
       "\t3 & 13.0 & 13.0 & 13.0 & 8.0 & 7.58 & 8.74 & 12.74 & 7.71 \\\\\n",
       "\t4 & 9.0 & 9.0 & 9.0 & 8.0 & 8.81 & 8.77 & 7.11 & 8.84 \\\\\n",
       "\t5 & 11.0 & 11.0 & 11.0 & 8.0 & 8.33 & 9.26 & 7.81 & 8.47 \\\\\n",
       "\t6 & 14.0 & 14.0 & 14.0 & 8.0 & 9.96 & 8.1 & 8.84 & 7.04 \\\\\n",
       "\t7 & 6.0 & 6.0 & 6.0 & 8.0 & 7.24 & 6.13 & 6.08 & 5.25 \\\\\n",
       "\t8 & 4.0 & 4.0 & 4.0 & 19.0 & 4.26 & 3.1 & 5.39 & 12.5 \\\\\n",
       "\t9 & 12.0 & 12.0 & 12.0 & 8.0 & 10.84 & 9.13 & 8.15 & 5.56 \\\\\n",
       "\t10 & 7.0 & 7.0 & 7.0 & 8.0 & 4.82 & 7.26 & 6.42 & 7.91 \\\\\n",
       "\t11 & 5.0 & 5.0 & 5.0 & 8.0 & 5.68 & 4.74 & 5.73 & 6.89 \\\\\n",
       "\\end{tabular}\n"
      ],
      "text/plain": [
       "\u001b[1m11×8 DataFrame\u001b[0m\n",
       "\u001b[1m Row \u001b[0m│\u001b[1m x1      \u001b[0m\u001b[1m x2      \u001b[0m\u001b[1m x3      \u001b[0m\u001b[1m x4      \u001b[0m\u001b[1m x5      \u001b[0m\u001b[1m x6      \u001b[0m\u001b[1m x7      \u001b[0m\u001b[1m x8      \u001b[0m\n",
       "\u001b[1m     \u001b[0m│\u001b[90m Float64 \u001b[0m\u001b[90m Float64 \u001b[0m\u001b[90m Float64 \u001b[0m\u001b[90m Float64 \u001b[0m\u001b[90m Float64 \u001b[0m\u001b[90m Float64 \u001b[0m\u001b[90m Float64 \u001b[0m\u001b[90m Float64 \u001b[0m\n",
       "─────┼────────────────────────────────────────────────────────────────────────\n",
       "   1 │    10.0     10.0     10.0      8.0     8.04     9.14     7.46     6.58\n",
       "   2 │     8.0      8.0      8.0      8.0     6.95     8.14     6.77     5.76\n",
       "   3 │    13.0     13.0     13.0      8.0     7.58     8.74    12.74     7.71\n",
       "   4 │     9.0      9.0      9.0      8.0     8.81     8.77     7.11     8.84\n",
       "   5 │    11.0     11.0     11.0      8.0     8.33     9.26     7.81     8.47\n",
       "   6 │    14.0     14.0     14.0      8.0     9.96     8.1      8.84     7.04\n",
       "   7 │     6.0      6.0      6.0      8.0     7.24     6.13     6.08     5.25\n",
       "   8 │     4.0      4.0      4.0     19.0     4.26     3.1      5.39    12.5\n",
       "   9 │    12.0     12.0     12.0      8.0    10.84     9.13     8.15     5.56\n",
       "  10 │     7.0      7.0      7.0      8.0     4.82     7.26     6.42     7.91\n",
       "  11 │     5.0      5.0      5.0      8.0     5.68     4.74     5.73     6.89"
      ]
     },
     "execution_count": 4,
     "metadata": {},
     "output_type": "execute_result"
    }
   ],
   "source": [
    "anscombe"
   ]
  },
  {
   "cell_type": "code",
   "execution_count": 6,
   "metadata": {},
   "outputs": [
    {
     "data": {
      "text/html": [
       "<table class=\"data-frame\"><thead><tr><th></th><th>N1</th><th>N2</th><th>N3</th><th>N4</th><th>M1</th><th>M2</th><th>M3</th><th>M4</th></tr><tr><th></th><th>Float64</th><th>Float64</th><th>Float64</th><th>Float64</th><th>Float64</th><th>Float64</th><th>Float64</th><th>Float64</th></tr></thead><tbody><p>11 rows × 8 columns</p><tr><th>1</th><td>10.0</td><td>10.0</td><td>10.0</td><td>8.0</td><td>8.04</td><td>9.14</td><td>7.46</td><td>6.58</td></tr><tr><th>2</th><td>8.0</td><td>8.0</td><td>8.0</td><td>8.0</td><td>6.95</td><td>8.14</td><td>6.77</td><td>5.76</td></tr><tr><th>3</th><td>13.0</td><td>13.0</td><td>13.0</td><td>8.0</td><td>7.58</td><td>8.74</td><td>12.74</td><td>7.71</td></tr><tr><th>4</th><td>9.0</td><td>9.0</td><td>9.0</td><td>8.0</td><td>8.81</td><td>8.77</td><td>7.11</td><td>8.84</td></tr><tr><th>5</th><td>11.0</td><td>11.0</td><td>11.0</td><td>8.0</td><td>8.33</td><td>9.26</td><td>7.81</td><td>8.47</td></tr><tr><th>6</th><td>14.0</td><td>14.0</td><td>14.0</td><td>8.0</td><td>9.96</td><td>8.1</td><td>8.84</td><td>7.04</td></tr><tr><th>7</th><td>6.0</td><td>6.0</td><td>6.0</td><td>8.0</td><td>7.24</td><td>6.13</td><td>6.08</td><td>5.25</td></tr><tr><th>8</th><td>4.0</td><td>4.0</td><td>4.0</td><td>19.0</td><td>4.26</td><td>3.1</td><td>5.39</td><td>12.5</td></tr><tr><th>9</th><td>12.0</td><td>12.0</td><td>12.0</td><td>8.0</td><td>10.84</td><td>9.13</td><td>8.15</td><td>5.56</td></tr><tr><th>10</th><td>7.0</td><td>7.0</td><td>7.0</td><td>8.0</td><td>4.82</td><td>7.26</td><td>6.42</td><td>7.91</td></tr><tr><th>11</th><td>5.0</td><td>5.0</td><td>5.0</td><td>8.0</td><td>5.68</td><td>4.74</td><td>5.73</td><td>6.89</td></tr></tbody></table>"
      ],
      "text/latex": [
       "\\begin{tabular}{r|cccccccc}\n",
       "\t& N1 & N2 & N3 & N4 & M1 & M2 & M3 & M4\\\\\n",
       "\t\\hline\n",
       "\t& Float64 & Float64 & Float64 & Float64 & Float64 & Float64 & Float64 & Float64\\\\\n",
       "\t\\hline\n",
       "\t1 & 10.0 & 10.0 & 10.0 & 8.0 & 8.04 & 9.14 & 7.46 & 6.58 \\\\\n",
       "\t2 & 8.0 & 8.0 & 8.0 & 8.0 & 6.95 & 8.14 & 6.77 & 5.76 \\\\\n",
       "\t3 & 13.0 & 13.0 & 13.0 & 8.0 & 7.58 & 8.74 & 12.74 & 7.71 \\\\\n",
       "\t4 & 9.0 & 9.0 & 9.0 & 8.0 & 8.81 & 8.77 & 7.11 & 8.84 \\\\\n",
       "\t5 & 11.0 & 11.0 & 11.0 & 8.0 & 8.33 & 9.26 & 7.81 & 8.47 \\\\\n",
       "\t6 & 14.0 & 14.0 & 14.0 & 8.0 & 9.96 & 8.1 & 8.84 & 7.04 \\\\\n",
       "\t7 & 6.0 & 6.0 & 6.0 & 8.0 & 7.24 & 6.13 & 6.08 & 5.25 \\\\\n",
       "\t8 & 4.0 & 4.0 & 4.0 & 19.0 & 4.26 & 3.1 & 5.39 & 12.5 \\\\\n",
       "\t9 & 12.0 & 12.0 & 12.0 & 8.0 & 10.84 & 9.13 & 8.15 & 5.56 \\\\\n",
       "\t10 & 7.0 & 7.0 & 7.0 & 8.0 & 4.82 & 7.26 & 6.42 & 7.91 \\\\\n",
       "\t11 & 5.0 & 5.0 & 5.0 & 8.0 & 5.68 & 4.74 & 5.73 & 6.89 \\\\\n",
       "\\end{tabular}\n"
      ],
      "text/plain": [
       "\u001b[1m11×8 DataFrame\u001b[0m\n",
       "\u001b[1m Row \u001b[0m│\u001b[1m N1      \u001b[0m\u001b[1m N2      \u001b[0m\u001b[1m N3      \u001b[0m\u001b[1m N4      \u001b[0m\u001b[1m M1      \u001b[0m\u001b[1m M2      \u001b[0m\u001b[1m M3      \u001b[0m\u001b[1m M4      \u001b[0m\n",
       "\u001b[1m     \u001b[0m│\u001b[90m Float64 \u001b[0m\u001b[90m Float64 \u001b[0m\u001b[90m Float64 \u001b[0m\u001b[90m Float64 \u001b[0m\u001b[90m Float64 \u001b[0m\u001b[90m Float64 \u001b[0m\u001b[90m Float64 \u001b[0m\u001b[90m Float64 \u001b[0m\n",
       "─────┼────────────────────────────────────────────────────────────────────────\n",
       "   1 │    10.0     10.0     10.0      8.0     8.04     9.14     7.46     6.58\n",
       "   2 │     8.0      8.0      8.0      8.0     6.95     8.14     6.77     5.76\n",
       "   3 │    13.0     13.0     13.0      8.0     7.58     8.74    12.74     7.71\n",
       "   4 │     9.0      9.0      9.0      8.0     8.81     8.77     7.11     8.84\n",
       "   5 │    11.0     11.0     11.0      8.0     8.33     9.26     7.81     8.47\n",
       "   6 │    14.0     14.0     14.0      8.0     9.96     8.1      8.84     7.04\n",
       "   7 │     6.0      6.0      6.0      8.0     7.24     6.13     6.08     5.25\n",
       "   8 │     4.0      4.0      4.0     19.0     4.26     3.1      5.39    12.5\n",
       "   9 │    12.0     12.0     12.0      8.0    10.84     9.13     8.15     5.56\n",
       "  10 │     7.0      7.0      7.0      8.0     4.82     7.26     6.42     7.91\n",
       "  11 │     5.0      5.0      5.0      8.0     5.68     4.74     5.73     6.89"
      ]
     },
     "execution_count": 6,
     "metadata": {},
     "output_type": "execute_result"
    }
   ],
   "source": [
    "rename!(anscombe, [Symbol.(:N,1:4); Symbol.(:M,1:4)]) #rename columns? into a proper df"
   ]
  },
  {
   "cell_type": "code",
   "execution_count": 8,
   "metadata": {},
   "outputs": [
    {
     "data": {
      "text/html": [
       "<table class=\"data-frame\"><thead><tr><th></th><th>X1</th><th>X2</th><th>X3</th><th>X4</th><th>Y1</th><th>Y2</th><th>Y3</th><th>Y4</th></tr><tr><th></th><th>Int64</th><th>Int64</th><th>Int64</th><th>Int64</th><th>Float64</th><th>Float64</th><th>Float64</th><th>Float64</th></tr></thead><tbody><p>11 rows × 8 columns</p><tr><th>1</th><td>10</td><td>10</td><td>10</td><td>8</td><td>8.04</td><td>9.14</td><td>7.46</td><td>6.58</td></tr><tr><th>2</th><td>8</td><td>8</td><td>8</td><td>8</td><td>6.95</td><td>8.14</td><td>6.77</td><td>5.76</td></tr><tr><th>3</th><td>13</td><td>13</td><td>13</td><td>8</td><td>7.58</td><td>8.74</td><td>12.74</td><td>7.71</td></tr><tr><th>4</th><td>9</td><td>9</td><td>9</td><td>8</td><td>8.81</td><td>8.77</td><td>7.11</td><td>8.84</td></tr><tr><th>5</th><td>11</td><td>11</td><td>11</td><td>8</td><td>8.33</td><td>9.26</td><td>7.81</td><td>8.47</td></tr><tr><th>6</th><td>14</td><td>14</td><td>14</td><td>8</td><td>9.96</td><td>8.1</td><td>8.84</td><td>7.04</td></tr><tr><th>7</th><td>6</td><td>6</td><td>6</td><td>8</td><td>7.24</td><td>6.13</td><td>6.08</td><td>5.25</td></tr><tr><th>8</th><td>4</td><td>4</td><td>4</td><td>19</td><td>4.26</td><td>3.1</td><td>5.39</td><td>12.5</td></tr><tr><th>9</th><td>12</td><td>12</td><td>12</td><td>8</td><td>10.84</td><td>9.13</td><td>8.15</td><td>5.56</td></tr><tr><th>10</th><td>7</td><td>7</td><td>7</td><td>8</td><td>4.82</td><td>7.26</td><td>6.42</td><td>7.91</td></tr><tr><th>11</th><td>5</td><td>5</td><td>5</td><td>8</td><td>5.68</td><td>4.74</td><td>5.73</td><td>6.89</td></tr></tbody></table>"
      ],
      "text/latex": [
       "\\begin{tabular}{r|cccccccc}\n",
       "\t& X1 & X2 & X3 & X4 & Y1 & Y2 & Y3 & Y4\\\\\n",
       "\t\\hline\n",
       "\t& Int64 & Int64 & Int64 & Int64 & Float64 & Float64 & Float64 & Float64\\\\\n",
       "\t\\hline\n",
       "\t1 & 10 & 10 & 10 & 8 & 8.04 & 9.14 & 7.46 & 6.58 \\\\\n",
       "\t2 & 8 & 8 & 8 & 8 & 6.95 & 8.14 & 6.77 & 5.76 \\\\\n",
       "\t3 & 13 & 13 & 13 & 8 & 7.58 & 8.74 & 12.74 & 7.71 \\\\\n",
       "\t4 & 9 & 9 & 9 & 8 & 8.81 & 8.77 & 7.11 & 8.84 \\\\\n",
       "\t5 & 11 & 11 & 11 & 8 & 8.33 & 9.26 & 7.81 & 8.47 \\\\\n",
       "\t6 & 14 & 14 & 14 & 8 & 9.96 & 8.1 & 8.84 & 7.04 \\\\\n",
       "\t7 & 6 & 6 & 6 & 8 & 7.24 & 6.13 & 6.08 & 5.25 \\\\\n",
       "\t8 & 4 & 4 & 4 & 19 & 4.26 & 3.1 & 5.39 & 12.5 \\\\\n",
       "\t9 & 12 & 12 & 12 & 8 & 10.84 & 9.13 & 8.15 & 5.56 \\\\\n",
       "\t10 & 7 & 7 & 7 & 8 & 4.82 & 7.26 & 6.42 & 7.91 \\\\\n",
       "\t11 & 5 & 5 & 5 & 8 & 5.68 & 4.74 & 5.73 & 6.89 \\\\\n",
       "\\end{tabular}\n"
      ],
      "text/plain": [
       "\u001b[1m11×8 DataFrame\u001b[0m\n",
       "\u001b[1m Row \u001b[0m│\u001b[1m X1    \u001b[0m\u001b[1m X2    \u001b[0m\u001b[1m X3    \u001b[0m\u001b[1m X4    \u001b[0m\u001b[1m Y1      \u001b[0m\u001b[1m Y2      \u001b[0m\u001b[1m Y3      \u001b[0m\u001b[1m Y4      \u001b[0m\n",
       "\u001b[1m     \u001b[0m│\u001b[90m Int64 \u001b[0m\u001b[90m Int64 \u001b[0m\u001b[90m Int64 \u001b[0m\u001b[90m Int64 \u001b[0m\u001b[90m Float64 \u001b[0m\u001b[90m Float64 \u001b[0m\u001b[90m Float64 \u001b[0m\u001b[90m Float64 \u001b[0m\n",
       "─────┼────────────────────────────────────────────────────────────────\n",
       "   1 │    10     10     10      8     8.04     9.14     7.46     6.58\n",
       "   2 │     8      8      8      8     6.95     8.14     6.77     5.76\n",
       "   3 │    13     13     13      8     7.58     8.74    12.74     7.71\n",
       "   4 │     9      9      9      8     8.81     8.77     7.11     8.84\n",
       "   5 │    11     11     11      8     8.33     9.26     7.81     8.47\n",
       "   6 │    14     14     14      8     9.96     8.1      8.84     7.04\n",
       "   7 │     6      6      6      8     7.24     6.13     6.08     5.25\n",
       "   8 │     4      4      4     19     4.26     3.1      5.39    12.5\n",
       "   9 │    12     12     12      8    10.84     9.13     8.15     5.56\n",
       "  10 │     7      7      7      8     4.82     7.26     6.42     7.91\n",
       "  11 │     5      5      5      8     5.68     4.74     5.73     6.89"
      ]
     },
     "execution_count": 8,
     "metadata": {},
     "output_type": "execute_result"
    }
   ],
   "source": [
    "using RDatasets\n",
    "anscombe=dataset(\"datasets\",\"anscombe\") #using RDatasets, first arg: name of package, second arg: name of dataset"
   ]
  },
  {
   "cell_type": "code",
   "execution_count": 9,
   "metadata": {},
   "outputs": [
    {
     "data": {
      "text/html": [
       "<table class=\"data-frame\"><thead><tr><th></th><th>X</th><th>Y</th></tr><tr><th></th><th>Int64</th><th>Int64</th></tr></thead><tbody><p>10 rows × 2 columns</p><tr><th>1</th><td>1</td><td>21</td></tr><tr><th>2</th><td>2</td><td>22</td></tr><tr><th>3</th><td>3</td><td>23</td></tr><tr><th>4</th><td>4</td><td>24</td></tr><tr><th>5</th><td>5</td><td>25</td></tr><tr><th>6</th><td>6</td><td>26</td></tr><tr><th>7</th><td>7</td><td>27</td></tr><tr><th>8</th><td>8</td><td>28</td></tr><tr><th>9</th><td>9</td><td>29</td></tr><tr><th>10</th><td>10</td><td>30</td></tr></tbody></table>"
      ],
      "text/latex": [
       "\\begin{tabular}{r|cc}\n",
       "\t& X & Y\\\\\n",
       "\t\\hline\n",
       "\t& Int64 & Int64\\\\\n",
       "\t\\hline\n",
       "\t1 & 1 & 21 \\\\\n",
       "\t2 & 2 & 22 \\\\\n",
       "\t3 & 3 & 23 \\\\\n",
       "\t4 & 4 & 24 \\\\\n",
       "\t5 & 5 & 25 \\\\\n",
       "\t6 & 6 & 26 \\\\\n",
       "\t7 & 7 & 27 \\\\\n",
       "\t8 & 8 & 28 \\\\\n",
       "\t9 & 9 & 29 \\\\\n",
       "\t10 & 10 & 30 \\\\\n",
       "\\end{tabular}\n"
      ],
      "text/plain": [
       "\u001b[1m10×2 DataFrame\u001b[0m\n",
       "\u001b[1m Row \u001b[0m│\u001b[1m X     \u001b[0m\u001b[1m Y     \u001b[0m\n",
       "\u001b[1m     \u001b[0m│\u001b[90m Int64 \u001b[0m\u001b[90m Int64 \u001b[0m\n",
       "─────┼──────────────\n",
       "   1 │     1     21\n",
       "   2 │     2     22\n",
       "   3 │     3     23\n",
       "   4 │     4     24\n",
       "   5 │     5     25\n",
       "   6 │     6     26\n",
       "   7 │     7     27\n",
       "   8 │     8     28\n",
       "   9 │     9     29\n",
       "  10 │    10     30"
      ]
     },
     "execution_count": 9,
     "metadata": {},
     "output_type": "execute_result"
    }
   ],
   "source": [
    "empty_df=DataFrame(X=1:10,Y=21:30) #not actually empty, just simple\n",
    "# column vectors need to have same length"
   ]
  },
  {
   "cell_type": "code",
   "execution_count": 25,
   "metadata": {},
   "outputs": [
    {
     "data": {
      "text/html": [
       "<table class=\"data-frame\"><thead><tr><th></th><th>Name</th><th>W</th><th>H</th></tr><tr><th></th><th>String</th><th>Float64</th><th>Int64</th></tr></thead><tbody><p>0 rows × 3 columns</p></tbody></table>"
      ],
      "text/latex": [
       "\\begin{tabular}{r|ccc}\n",
       "\t& Name & W & H\\\\\n",
       "\t\\hline\n",
       "\t& String & Float64 & Int64\\\\\n",
       "\t\\hline\n",
       "\\end{tabular}\n"
      ],
      "text/plain": [
       "\u001b[1m0×3 DataFrame\u001b[0m"
      ]
     },
     "execution_count": 25,
     "metadata": {},
     "output_type": "execute_result"
    }
   ],
   "source": [
    "actually_empty_df = DataFrame(\n",
    "    Name=String[],\n",
    "    W=Float64[], #just Float doesn't work\n",
    "    H=Int[]\n",
    ")"
   ]
  },
  {
   "cell_type": "code",
   "execution_count": 26,
   "metadata": {},
   "outputs": [
    {
     "data": {
      "text/html": [
       "<table class=\"data-frame\"><thead><tr><th></th><th>Name</th><th>W</th><th>H</th></tr><tr><th></th><th>String</th><th>Float64</th><th>Int64</th></tr></thead><tbody><p>1 rows × 3 columns</p><tr><th>1</th><td>emptytestdataframe</td><td>6.0</td><td>5</td></tr></tbody></table>"
      ],
      "text/latex": [
       "\\begin{tabular}{r|ccc}\n",
       "\t& Name & W & H\\\\\n",
       "\t\\hline\n",
       "\t& String & Float64 & Int64\\\\\n",
       "\t\\hline\n",
       "\t1 & emptytestdataframe & 6.0 & 5 \\\\\n",
       "\\end{tabular}\n"
      ],
      "text/plain": [
       "\u001b[1m1×3 DataFrame\u001b[0m\n",
       "\u001b[1m Row \u001b[0m│\u001b[1m Name               \u001b[0m\u001b[1m W       \u001b[0m\u001b[1m H     \u001b[0m\n",
       "\u001b[1m     \u001b[0m│\u001b[90m String             \u001b[0m\u001b[90m Float64 \u001b[0m\u001b[90m Int64 \u001b[0m\n",
       "─────┼────────────────────────────────────\n",
       "   1 │ emptytestdataframe      6.0      5"
      ]
     },
     "execution_count": 26,
     "metadata": {},
     "output_type": "execute_result"
    }
   ],
   "source": [
    "# adding values to a dataframe\n",
    "# vcat(): vertical concat? can add records. concatenates given arrays along dimension 1\n",
    "actually_empty_df=vcat(actually_empty_df, DataFrame(Name=\"emptytestdataframe\",W=6.0,H=5))"
   ]
  },
  {
   "cell_type": "code",
   "execution_count": 27,
   "metadata": {},
   "outputs": [
    {
     "ename": "LoadError",
     "evalue": "UndefVarError: vcat! not defined",
     "output_type": "error",
     "traceback": [
      "UndefVarError: vcat! not defined",
      "",
      "Stacktrace:",
      " [1] top-level scope",
      "   @ In[27]:1",
      " [2] eval",
      "   @ .\\boot.jl:360 [inlined]",
      " [3] include_string(mapexpr::typeof(REPL.softscope), mod::Module, code::String, filename::String)",
      "   @ Base .\\loading.jl:1094"
     ]
    }
   ],
   "source": [
    "vcat!()"
   ]
  },
  {
   "cell_type": "code",
   "execution_count": 28,
   "metadata": {},
   "outputs": [
    {
     "data": {
      "text/html": [
       "<table class=\"data-frame\"><thead><tr><th></th><th>Name</th><th>W</th><th>H</th></tr><tr><th></th><th>String</th><th>Float64</th><th>Int64</th></tr></thead><tbody><p>2 rows × 3 columns</p><tr><th>1</th><td>emptytestdataframe</td><td>6.0</td><td>5</td></tr><tr><th>2</th><td>emptytestdataframe2</td><td>7.0</td><td>6</td></tr></tbody></table>"
      ],
      "text/latex": [
       "\\begin{tabular}{r|ccc}\n",
       "\t& Name & W & H\\\\\n",
       "\t\\hline\n",
       "\t& String & Float64 & Int64\\\\\n",
       "\t\\hline\n",
       "\t1 & emptytestdataframe & 6.0 & 5 \\\\\n",
       "\t2 & emptytestdataframe2 & 7.0 & 6 \\\\\n",
       "\\end{tabular}\n"
      ],
      "text/plain": [
       "\u001b[1m2×3 DataFrame\u001b[0m\n",
       "\u001b[1m Row \u001b[0m│\u001b[1m Name                \u001b[0m\u001b[1m W       \u001b[0m\u001b[1m H     \u001b[0m\n",
       "\u001b[1m     \u001b[0m│\u001b[90m String              \u001b[0m\u001b[90m Float64 \u001b[0m\u001b[90m Int64 \u001b[0m\n",
       "─────┼─────────────────────────────────────\n",
       "   1 │ emptytestdataframe       6.0      5\n",
       "   2 │ emptytestdataframe2      7.0      6"
      ]
     },
     "execution_count": 28,
     "metadata": {},
     "output_type": "execute_result"
    }
   ],
   "source": [
    "actually_empty_df=vcat(actually_empty_df, DataFrame(Name=\"emptytestdataframe2\",W=7.0,H=6))"
   ]
  },
  {
   "cell_type": "code",
   "execution_count": 29,
   "metadata": {},
   "outputs": [
    {
     "ename": "LoadError",
     "evalue": "MethodError: no method matching DataFrame(::String, ::Float64, ::Int64)\n\u001b[0mClosest candidates are:\n\u001b[0m  DataFrame(\u001b[91m::AbstractVector{var\"#s34\"} where var\"#s34\"<:Type\u001b[39m, \u001b[91m::AbstractVector{var\"#s33\"} where var\"#s33\"<:AbstractString\u001b[39m, ::Integer; makeunique) at C:\\Users\\Aditya\\.julia\\packages\\DataFrames\\nxjiD\\src\\dataframe\\dataframe.jl:380\n\u001b[0m  DataFrame(\u001b[91m::AbstractVector{T}\u001b[39m, \u001b[91m::AbstractVector{Symbol}\u001b[39m, ::Integer; makeunique) where T<:Type at C:\\Users\\Aditya\\.julia\\packages\\DataFrames\\nxjiD\\src\\dataframe\\dataframe.jl:374\n\u001b[0m  DataFrame(::T; copycols) where T at C:\\Users\\Aditya\\.julia\\packages\\DataFrames\\nxjiD\\src\\other\\tables.jl:48",
     "output_type": "error",
     "traceback": [
      "MethodError: no method matching DataFrame(::String, ::Float64, ::Int64)\n\u001b[0mClosest candidates are:\n\u001b[0m  DataFrame(\u001b[91m::AbstractVector{var\"#s34\"} where var\"#s34\"<:Type\u001b[39m, \u001b[91m::AbstractVector{var\"#s33\"} where var\"#s33\"<:AbstractString\u001b[39m, ::Integer; makeunique) at C:\\Users\\Aditya\\.julia\\packages\\DataFrames\\nxjiD\\src\\dataframe\\dataframe.jl:380\n\u001b[0m  DataFrame(\u001b[91m::AbstractVector{T}\u001b[39m, \u001b[91m::AbstractVector{Symbol}\u001b[39m, ::Integer; makeunique) where T<:Type at C:\\Users\\Aditya\\.julia\\packages\\DataFrames\\nxjiD\\src\\dataframe\\dataframe.jl:374\n\u001b[0m  DataFrame(::T; copycols) where T at C:\\Users\\Aditya\\.julia\\packages\\DataFrames\\nxjiD\\src\\other\\tables.jl:48",
      "",
      "Stacktrace:",
      " [1] top-level scope",
      "   @ In[29]:1",
      " [2] eval",
      "   @ .\\boot.jl:360 [inlined]",
      " [3] include_string(mapexpr::typeof(REPL.softscope), mod::Module, code::String, filename::String)",
      "   @ Base .\\loading.jl:1094"
     ]
    }
   ],
   "source": [
    "actually_empty_df=vcat(actually_empty_df,DataFrame(\"line 3\",3.0,3))"
   ]
  },
  {
   "cell_type": "code",
   "execution_count": 30,
   "metadata": {},
   "outputs": [
    {
     "data": {
      "text/html": [
       "<table class=\"data-frame\"><thead><tr><th></th><th>variable</th><th>mean</th><th>std</th><th>min</th><th>median</th><th>q25</th></tr><tr><th></th><th>Symbol</th><th>Float64</th><th>Float64</th><th>Real</th><th>Float64</th><th>Float64</th></tr></thead><tbody><p>8 rows × 6 columns</p><tr><th>1</th><td>X1</td><td>9.0</td><td>3.31662</td><td>4</td><td>9.0</td><td>6.5</td></tr><tr><th>2</th><td>X2</td><td>9.0</td><td>3.31662</td><td>4</td><td>9.0</td><td>6.5</td></tr><tr><th>3</th><td>X3</td><td>9.0</td><td>3.31662</td><td>4</td><td>9.0</td><td>6.5</td></tr><tr><th>4</th><td>X4</td><td>9.0</td><td>3.31662</td><td>8</td><td>8.0</td><td>8.0</td></tr><tr><th>5</th><td>Y1</td><td>7.50091</td><td>2.03157</td><td>4.26</td><td>7.58</td><td>6.315</td></tr><tr><th>6</th><td>Y2</td><td>7.50091</td><td>2.03166</td><td>3.1</td><td>8.14</td><td>6.695</td></tr><tr><th>7</th><td>Y3</td><td>7.5</td><td>2.03042</td><td>5.39</td><td>7.11</td><td>6.25</td></tr><tr><th>8</th><td>Y4</td><td>7.50091</td><td>2.03058</td><td>5.25</td><td>7.04</td><td>6.17</td></tr></tbody></table>"
      ],
      "text/latex": [
       "\\begin{tabular}{r|cccccc}\n",
       "\t& variable & mean & std & min & median & q25\\\\\n",
       "\t\\hline\n",
       "\t& Symbol & Float64 & Float64 & Real & Float64 & Float64\\\\\n",
       "\t\\hline\n",
       "\t1 & X1 & 9.0 & 3.31662 & 4 & 9.0 & 6.5 \\\\\n",
       "\t2 & X2 & 9.0 & 3.31662 & 4 & 9.0 & 6.5 \\\\\n",
       "\t3 & X3 & 9.0 & 3.31662 & 4 & 9.0 & 6.5 \\\\\n",
       "\t4 & X4 & 9.0 & 3.31662 & 8 & 8.0 & 8.0 \\\\\n",
       "\t5 & Y1 & 7.50091 & 2.03157 & 4.26 & 7.58 & 6.315 \\\\\n",
       "\t6 & Y2 & 7.50091 & 2.03166 & 3.1 & 8.14 & 6.695 \\\\\n",
       "\t7 & Y3 & 7.5 & 2.03042 & 5.39 & 7.11 & 6.25 \\\\\n",
       "\t8 & Y4 & 7.50091 & 2.03058 & 5.25 & 7.04 & 6.17 \\\\\n",
       "\\end{tabular}\n"
      ],
      "text/plain": [
       "\u001b[1m8×6 DataFrame\u001b[0m\n",
       "\u001b[1m Row \u001b[0m│\u001b[1m variable \u001b[0m\u001b[1m mean    \u001b[0m\u001b[1m std     \u001b[0m\u001b[1m min  \u001b[0m\u001b[1m median  \u001b[0m\u001b[1m q25     \u001b[0m\n",
       "\u001b[1m     \u001b[0m│\u001b[90m Symbol   \u001b[0m\u001b[90m Float64 \u001b[0m\u001b[90m Float64 \u001b[0m\u001b[90m Real \u001b[0m\u001b[90m Float64 \u001b[0m\u001b[90m Float64 \u001b[0m\n",
       "─────┼────────────────────────────────────────────────────\n",
       "   1 │ X1        9.0      3.31662  4        9.0     6.5\n",
       "   2 │ X2        9.0      3.31662  4        9.0     6.5\n",
       "   3 │ X3        9.0      3.31662  4        9.0     6.5\n",
       "   4 │ X4        9.0      3.31662  8        8.0     8.0\n",
       "   5 │ Y1        7.50091  2.03157  4.26     7.58    6.315\n",
       "   6 │ Y2        7.50091  2.03166  3.1      8.14    6.695\n",
       "   7 │ Y3        7.5      2.03042  5.39     7.11    6.25\n",
       "   8 │ Y4        7.50091  2.03058  5.25     7.04    6.17"
      ]
     },
     "execution_count": 30,
     "metadata": {},
     "output_type": "execute_result"
    }
   ],
   "source": [
    "describe(anscombe,:mean,:std,:min,:median,:q25) #describes every column of a dataframe"
   ]
  }
 ],
 "metadata": {
  "kernelspec": {
   "display_name": "Julia 1.6.0",
   "language": "julia",
   "name": "julia-1.6"
  },
  "language_info": {
   "file_extension": ".jl",
   "mimetype": "application/julia",
   "name": "julia",
   "version": "1.6.0"
  }
 },
 "nbformat": 4,
 "nbformat_minor": 4
}
